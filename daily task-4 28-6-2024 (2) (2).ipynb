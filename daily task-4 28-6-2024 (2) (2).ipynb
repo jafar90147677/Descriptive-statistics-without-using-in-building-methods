{
 "cells": [
  {
   "cell_type": "code",
   "execution_count": 18,
   "id": "61612557-8630-43d2-9fb0-c5e53efb58b5",
   "metadata": {},
   "outputs": [
    {
     "name": "stdout",
     "output_type": "stream",
     "text": [
      "Mean: 5.363636363636363\n",
      "Median: 5\n",
      "Mode: [5 9]\n"
     ]
    }
   ],
   "source": [
    "import numpy as np\n",
    "\n",
    "class Descriptive_statistics:\n",
    "    def __init__(self, data):\n",
    "        self.data = np.array(data)\n",
    "\n",
    "    def mymean(self):\n",
    "        def find_mean(arr):\n",
    "            s = 0\n",
    "            c = 0\n",
    "            for i in arr:\n",
    "                s += i\n",
    "                c += 1\n",
    "            return s / c\n",
    "\n",
    "        return np.apply_along_axis(find_mean, axis=0, arr=self.data)\n",
    "\n",
    "    def median(self):\n",
    "        def bubble_sort(arr):\n",
    "            n = 0\n",
    "            for _ in arr:  \n",
    "                n += 1\n",
    "            for i in range(n):\n",
    "                for j in range(0, n - i - 1):\n",
    "                    if arr[j] > arr[j + 1]:\n",
    "                        arr[j], arr[j + 1] = arr[j + 1], arr[j]\n",
    "            return arr\n",
    "\n",
    "        def find_median(arr):\n",
    "            sorted_arr = bubble_sort(arr.copy())\n",
    "            length = 0\n",
    "            for _ in sorted_arr:  \n",
    "                length += 1\n",
    "            if length % 2 == 0:\n",
    "                return (sorted_arr[length // 2 - 1] + sorted_arr[length // 2]) / 2.0\n",
    "            else:\n",
    "                return sorted_arr[length // 2]\n",
    "\n",
    "        return np.apply_along_axis(find_median, axis=0, arr=self.data)\n",
    "\n",
    "    def mode(self):\n",
    "        def find_mode(arr):\n",
    "            frequency = {}\n",
    "            for item in arr:\n",
    "                if item in frequency:\n",
    "                    frequency[item] += 1\n",
    "                else:\n",
    "                    frequency[item] = 1\n",
    "\n",
    "            max_count = 0\n",
    "            for count in frequency.values():\n",
    "                if count > max_count:\n",
    "                    max_count = count\n",
    "\n",
    "            modes = []\n",
    "            for key, value in frequency.items():\n",
    "                if value == max_count:\n",
    "                    modes.append(key)\n",
    "\n",
    "            return modes\n",
    "\n",
    "        return np.apply_along_axis(find_mode, axis=0, arr=self.data)\n",
    "\n",
    "data = [1, 2, 3, 4, 5, 5, 6, 7, 8, 9, 9]\n",
    "ds = Descriptive_statistics(data)\n",
    "print(\"Mean:\", ds.mymean())\n",
    "print(\"Median:\", ds.median())\n",
    "print(\"Mode:\", ds.mode())\n"
   ]
  },
  {
   "cell_type": "code",
   "execution_count": null,
   "id": "df9a5166",
   "metadata": {},
   "outputs": [],
   "source": []
  }
 ],
 "metadata": {
  "kernelspec": {
   "display_name": "Python 3 (ipykernel)",
   "language": "python",
   "name": "python3"
  },
  "language_info": {
   "codemirror_mode": {
    "name": "ipython",
    "version": 3
   },
   "file_extension": ".py",
   "mimetype": "text/x-python",
   "name": "python",
   "nbconvert_exporter": "python",
   "pygments_lexer": "ipython3",
   "version": "3.11.7"
  }
 },
 "nbformat": 4,
 "nbformat_minor": 5
}
